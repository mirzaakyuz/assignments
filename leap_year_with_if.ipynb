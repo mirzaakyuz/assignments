{
 "cells": [
  {
   "cell_type": "code",
   "execution_count": 14,
   "metadata": {},
   "outputs": [
    {
     "name": "stdout",
     "output_type": "stream",
     "text": [
      "Bir yil giriniz: 2000\n",
      "2000 is a leap year\n"
     ]
    }
   ],
   "source": [
    "\n",
    "x = int(input('Bir yil giriniz: '))\n",
    "\n",
    "def ly(year):\n",
    "    if (( year % 4 == 0) and ( year % 100 != 0)) or \\\n",
    "     ( year % 400 == 0 ):\n",
    "        print(f\"{year} is a leap year\")\n",
    "    else:\n",
    "        print(f\"{year} is a not leap year\")\n",
    "        \n",
    "ly(x)"
   ]
  },
  {
   "cell_type": "code",
   "execution_count": null,
   "metadata": {},
   "outputs": [],
   "source": []
  }
 ],
 "metadata": {
  "kernelspec": {
   "display_name": "Python 3",
   "language": "python",
   "name": "python3"
  },
  "language_info": {
   "codemirror_mode": {
    "name": "ipython",
    "version": 3
   },
   "file_extension": ".py",
   "mimetype": "text/x-python",
   "name": "python",
   "nbconvert_exporter": "python",
   "pygments_lexer": "ipython3",
   "version": "3.7.6"
  }
 },
 "nbformat": 4,
 "nbformat_minor": 4
}
