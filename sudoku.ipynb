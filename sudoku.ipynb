{
 "cells": [
  {
   "cell_type": "code",
   "execution_count": 6,
   "metadata": {},
   "outputs": [
    {
     "name": "stdout",
     "output_type": "stream",
     "text": [
      "\n",
      "\n",
      "-   -   -   -   -   -   -   -   -   \n",
      "\n",
      "0  0  0   |  0  6  4   |  0  0  0  \n",
      "\n",
      "7  0  0   |  0  0  0   |  3  9  0  \n",
      "\n",
      "8  0  0   |  0  0  0   |  0  0  0  \n",
      "\n",
      "-   -   -   -   -   -   -   -   -   \n",
      "\n",
      "0  0  0   |  5  0  2   |  0  6  0  \n",
      "\n",
      "0  8  0   |  4  0  0   |  0  0  0  \n",
      "\n",
      "3  5  0   |  6  0  0   |  0  7  0  \n",
      "\n",
      "-   -   -   -   -   -   -   -   -   \n",
      "\n",
      "0  0  2   |  0  0  0   |  1  0  3  \n",
      "\n",
      "0  0  1   |  0  5  9   |  0  0  0  \n",
      "\n",
      "0  0  0   |  0  0  0   |  7  0  0  \n",
      "\n",
      "-   -   -   -   -   -   -   -   -   \n",
      "\n"
     ]
    }
   ],
   "source": [
    "sudoku = [\n",
    "    [0, 0, 0, 0, 6, 4, 0, 0, 0],\n",
    "    [7, 0, 0, 0, 0, 0, 3, 9, 0],\n",
    "    [8, 0, 0, 0, 0, 0, 0, 0, 0],\n",
    "    [0, 0, 0, 5, 0, 2, 0, 6, 0],\n",
    "    [0, 8, 0, 4, 0, 0, 0, 0, 0],\n",
    "    [3, 5, 0, 6, 0, 0, 0, 7, 0],\n",
    "    [0, 0, 2, 0, 0, 0, 1, 0, 3],\n",
    "    [0, 0, 1, 0, 5, 9, 0, 0, 0],\n",
    "    [0, 0, 0, 0, 0, 0, 7, 0, 0]\n",
    "]\n",
    "\n",
    "for i in range(len(sudoku)+1):\n",
    "    print('\\n')\n",
    "    if i % 3 == 0:\n",
    "        for k in range(len(sudoku)):\n",
    "            print('-  ', end = ' ')\n",
    "            if k > 0 and k % 8 == 0:\n",
    "                print('\\n')\n",
    "    if i == 9:\n",
    "        break\n",
    "    else:\n",
    "        for j in range(len(sudoku[i])):\n",
    "            print(sudoku[i][j], end = '  ')\n",
    "            if j is 2 or j is 5:\n",
    "                print(' | ', end= ' ')"
   ]
  },
  {
   "cell_type": "code",
   "execution_count": null,
   "metadata": {},
   "outputs": [],
   "source": []
  }
 ],
 "metadata": {
  "kernelspec": {
   "display_name": "Python 3",
   "language": "python",
   "name": "python3"
  },
  "language_info": {
   "codemirror_mode": {
    "name": "ipython",
    "version": 3
   },
   "file_extension": ".py",
   "mimetype": "text/x-python",
   "name": "python",
   "nbconvert_exporter": "python",
   "pygments_lexer": "ipython3",
   "version": "3.7.6"
  }
 },
 "nbformat": 4,
 "nbformat_minor": 4
}
